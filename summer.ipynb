{
  "nbformat": 4,
  "nbformat_minor": 0,
  "metadata": {
    "colab": {
      "name": "summer.ipynb",
      "provenance": [],
      "collapsed_sections": []
    },
    "kernelspec": {
      "name": "python3",
      "display_name": "Python 3"
    },
    "language_info": {
      "name": "python"
    }
  },
  "cells": [
    {
      "cell_type": "code",
      "metadata": {
        "id": "LxgiGj61TOtk"
      },
      "source": [
        "import pandas as pd"
      ],
      "execution_count": null,
      "outputs": []
    },
    {
      "cell_type": "code",
      "metadata": {
        "id": "OrxJuo2qTgF3"
      },
      "source": [
        "df=pd.read_csv(\"summer.csv\")"
      ],
      "execution_count": null,
      "outputs": []
    },
    {
      "cell_type": "code",
      "metadata": {
        "colab": {
          "base_uri": "https://localhost:8080/",
          "height": 419
        },
        "id": "5pqoIGGDUNWk",
        "outputId": "c159be92-f054-42b0-b7ec-fa41450f8b74"
      },
      "source": [
        "df"
      ],
      "execution_count": null,
      "outputs": [
        {
          "output_type": "execute_result",
          "data": {
            "text/html": [
              "<div>\n",
              "<style scoped>\n",
              "    .dataframe tbody tr th:only-of-type {\n",
              "        vertical-align: middle;\n",
              "    }\n",
              "\n",
              "    .dataframe tbody tr th {\n",
              "        vertical-align: top;\n",
              "    }\n",
              "\n",
              "    .dataframe thead th {\n",
              "        text-align: right;\n",
              "    }\n",
              "</style>\n",
              "<table border=\"1\" class=\"dataframe\">\n",
              "  <thead>\n",
              "    <tr style=\"text-align: right;\">\n",
              "      <th></th>\n",
              "      <th>Year</th>\n",
              "      <th>City</th>\n",
              "      <th>Sport</th>\n",
              "      <th>Discipline</th>\n",
              "      <th>Athlete</th>\n",
              "      <th>Country</th>\n",
              "      <th>Gender</th>\n",
              "      <th>Event</th>\n",
              "      <th>Medal</th>\n",
              "    </tr>\n",
              "  </thead>\n",
              "  <tbody>\n",
              "    <tr>\n",
              "      <th>0</th>\n",
              "      <td>1896</td>\n",
              "      <td>Athens</td>\n",
              "      <td>Aquatics</td>\n",
              "      <td>Swimming</td>\n",
              "      <td>HAJOS, Alfred</td>\n",
              "      <td>HUN</td>\n",
              "      <td>Men</td>\n",
              "      <td>100M Freestyle</td>\n",
              "      <td>Gold</td>\n",
              "    </tr>\n",
              "    <tr>\n",
              "      <th>1</th>\n",
              "      <td>1896</td>\n",
              "      <td>Athens</td>\n",
              "      <td>Aquatics</td>\n",
              "      <td>Swimming</td>\n",
              "      <td>HERSCHMANN, Otto</td>\n",
              "      <td>AUT</td>\n",
              "      <td>Men</td>\n",
              "      <td>100M Freestyle</td>\n",
              "      <td>Silver</td>\n",
              "    </tr>\n",
              "    <tr>\n",
              "      <th>2</th>\n",
              "      <td>1896</td>\n",
              "      <td>Athens</td>\n",
              "      <td>Aquatics</td>\n",
              "      <td>Swimming</td>\n",
              "      <td>DRIVAS, Dimitrios</td>\n",
              "      <td>GRE</td>\n",
              "      <td>Men</td>\n",
              "      <td>100M Freestyle For Sailors</td>\n",
              "      <td>Bronze</td>\n",
              "    </tr>\n",
              "    <tr>\n",
              "      <th>3</th>\n",
              "      <td>1896</td>\n",
              "      <td>Athens</td>\n",
              "      <td>Aquatics</td>\n",
              "      <td>Swimming</td>\n",
              "      <td>MALOKINIS, Ioannis</td>\n",
              "      <td>GRE</td>\n",
              "      <td>Men</td>\n",
              "      <td>100M Freestyle For Sailors</td>\n",
              "      <td>Gold</td>\n",
              "    </tr>\n",
              "    <tr>\n",
              "      <th>4</th>\n",
              "      <td>1896</td>\n",
              "      <td>Athens</td>\n",
              "      <td>Aquatics</td>\n",
              "      <td>Swimming</td>\n",
              "      <td>CHASAPIS, Spiridon</td>\n",
              "      <td>GRE</td>\n",
              "      <td>Men</td>\n",
              "      <td>100M Freestyle For Sailors</td>\n",
              "      <td>Silver</td>\n",
              "    </tr>\n",
              "    <tr>\n",
              "      <th>...</th>\n",
              "      <td>...</td>\n",
              "      <td>...</td>\n",
              "      <td>...</td>\n",
              "      <td>...</td>\n",
              "      <td>...</td>\n",
              "      <td>...</td>\n",
              "      <td>...</td>\n",
              "      <td>...</td>\n",
              "      <td>...</td>\n",
              "    </tr>\n",
              "    <tr>\n",
              "      <th>31160</th>\n",
              "      <td>2012</td>\n",
              "      <td>London</td>\n",
              "      <td>Wrestling</td>\n",
              "      <td>Wrestling Freestyle</td>\n",
              "      <td>JANIKOWSKI, Damian</td>\n",
              "      <td>POL</td>\n",
              "      <td>Men</td>\n",
              "      <td>Wg 84 KG</td>\n",
              "      <td>Bronze</td>\n",
              "    </tr>\n",
              "    <tr>\n",
              "      <th>31161</th>\n",
              "      <td>2012</td>\n",
              "      <td>London</td>\n",
              "      <td>Wrestling</td>\n",
              "      <td>Wrestling Freestyle</td>\n",
              "      <td>REZAEI, Ghasem Gholamreza</td>\n",
              "      <td>IRI</td>\n",
              "      <td>Men</td>\n",
              "      <td>Wg 96 KG</td>\n",
              "      <td>Gold</td>\n",
              "    </tr>\n",
              "    <tr>\n",
              "      <th>31162</th>\n",
              "      <td>2012</td>\n",
              "      <td>London</td>\n",
              "      <td>Wrestling</td>\n",
              "      <td>Wrestling Freestyle</td>\n",
              "      <td>TOTROV, Rustam</td>\n",
              "      <td>RUS</td>\n",
              "      <td>Men</td>\n",
              "      <td>Wg 96 KG</td>\n",
              "      <td>Silver</td>\n",
              "    </tr>\n",
              "    <tr>\n",
              "      <th>31163</th>\n",
              "      <td>2012</td>\n",
              "      <td>London</td>\n",
              "      <td>Wrestling</td>\n",
              "      <td>Wrestling Freestyle</td>\n",
              "      <td>ALEKSANYAN, Artur</td>\n",
              "      <td>ARM</td>\n",
              "      <td>Men</td>\n",
              "      <td>Wg 96 KG</td>\n",
              "      <td>Bronze</td>\n",
              "    </tr>\n",
              "    <tr>\n",
              "      <th>31164</th>\n",
              "      <td>2012</td>\n",
              "      <td>London</td>\n",
              "      <td>Wrestling</td>\n",
              "      <td>Wrestling Freestyle</td>\n",
              "      <td>LIDBERG, Jimmy</td>\n",
              "      <td>SWE</td>\n",
              "      <td>Men</td>\n",
              "      <td>Wg 96 KG</td>\n",
              "      <td>Bronze</td>\n",
              "    </tr>\n",
              "  </tbody>\n",
              "</table>\n",
              "<p>31165 rows × 9 columns</p>\n",
              "</div>"
            ],
            "text/plain": [
              "       Year    City      Sport  ... Gender                       Event   Medal\n",
              "0      1896  Athens   Aquatics  ...    Men              100M Freestyle    Gold\n",
              "1      1896  Athens   Aquatics  ...    Men              100M Freestyle  Silver\n",
              "2      1896  Athens   Aquatics  ...    Men  100M Freestyle For Sailors  Bronze\n",
              "3      1896  Athens   Aquatics  ...    Men  100M Freestyle For Sailors    Gold\n",
              "4      1896  Athens   Aquatics  ...    Men  100M Freestyle For Sailors  Silver\n",
              "...     ...     ...        ...  ...    ...                         ...     ...\n",
              "31160  2012  London  Wrestling  ...    Men                    Wg 84 KG  Bronze\n",
              "31161  2012  London  Wrestling  ...    Men                    Wg 96 KG    Gold\n",
              "31162  2012  London  Wrestling  ...    Men                    Wg 96 KG  Silver\n",
              "31163  2012  London  Wrestling  ...    Men                    Wg 96 KG  Bronze\n",
              "31164  2012  London  Wrestling  ...    Men                    Wg 96 KG  Bronze\n",
              "\n",
              "[31165 rows x 9 columns]"
            ]
          },
          "metadata": {},
          "execution_count": 3
        }
      ]
    },
    {
      "cell_type": "code",
      "metadata": {
        "colab": {
          "base_uri": "https://localhost:8080/"
        },
        "id": "tjGuyShPUOyB",
        "outputId": "381c3798-4150-4282-ab0c-cbbb4e8fd6c0"
      },
      "source": [
        "type(df)"
      ],
      "execution_count": null,
      "outputs": [
        {
          "output_type": "execute_result",
          "data": {
            "text/plain": [
              "pandas.core.frame.DataFrame"
            ]
          },
          "metadata": {},
          "execution_count": 4
        }
      ]
    },
    {
      "cell_type": "code",
      "metadata": {
        "colab": {
          "base_uri": "https://localhost:8080/",
          "height": 204
        },
        "id": "kWhaT74hUTuO",
        "outputId": "1fedc666-0444-47bf-9ff9-b241591e6930"
      },
      "source": [
        "df.head()"
      ],
      "execution_count": null,
      "outputs": [
        {
          "output_type": "execute_result",
          "data": {
            "text/html": [
              "<div>\n",
              "<style scoped>\n",
              "    .dataframe tbody tr th:only-of-type {\n",
              "        vertical-align: middle;\n",
              "    }\n",
              "\n",
              "    .dataframe tbody tr th {\n",
              "        vertical-align: top;\n",
              "    }\n",
              "\n",
              "    .dataframe thead th {\n",
              "        text-align: right;\n",
              "    }\n",
              "</style>\n",
              "<table border=\"1\" class=\"dataframe\">\n",
              "  <thead>\n",
              "    <tr style=\"text-align: right;\">\n",
              "      <th></th>\n",
              "      <th>Year</th>\n",
              "      <th>City</th>\n",
              "      <th>Sport</th>\n",
              "      <th>Discipline</th>\n",
              "      <th>Athlete</th>\n",
              "      <th>Country</th>\n",
              "      <th>Gender</th>\n",
              "      <th>Event</th>\n",
              "      <th>Medal</th>\n",
              "    </tr>\n",
              "  </thead>\n",
              "  <tbody>\n",
              "    <tr>\n",
              "      <th>0</th>\n",
              "      <td>1896</td>\n",
              "      <td>Athens</td>\n",
              "      <td>Aquatics</td>\n",
              "      <td>Swimming</td>\n",
              "      <td>HAJOS, Alfred</td>\n",
              "      <td>HUN</td>\n",
              "      <td>Men</td>\n",
              "      <td>100M Freestyle</td>\n",
              "      <td>Gold</td>\n",
              "    </tr>\n",
              "    <tr>\n",
              "      <th>1</th>\n",
              "      <td>1896</td>\n",
              "      <td>Athens</td>\n",
              "      <td>Aquatics</td>\n",
              "      <td>Swimming</td>\n",
              "      <td>HERSCHMANN, Otto</td>\n",
              "      <td>AUT</td>\n",
              "      <td>Men</td>\n",
              "      <td>100M Freestyle</td>\n",
              "      <td>Silver</td>\n",
              "    </tr>\n",
              "    <tr>\n",
              "      <th>2</th>\n",
              "      <td>1896</td>\n",
              "      <td>Athens</td>\n",
              "      <td>Aquatics</td>\n",
              "      <td>Swimming</td>\n",
              "      <td>DRIVAS, Dimitrios</td>\n",
              "      <td>GRE</td>\n",
              "      <td>Men</td>\n",
              "      <td>100M Freestyle For Sailors</td>\n",
              "      <td>Bronze</td>\n",
              "    </tr>\n",
              "    <tr>\n",
              "      <th>3</th>\n",
              "      <td>1896</td>\n",
              "      <td>Athens</td>\n",
              "      <td>Aquatics</td>\n",
              "      <td>Swimming</td>\n",
              "      <td>MALOKINIS, Ioannis</td>\n",
              "      <td>GRE</td>\n",
              "      <td>Men</td>\n",
              "      <td>100M Freestyle For Sailors</td>\n",
              "      <td>Gold</td>\n",
              "    </tr>\n",
              "    <tr>\n",
              "      <th>4</th>\n",
              "      <td>1896</td>\n",
              "      <td>Athens</td>\n",
              "      <td>Aquatics</td>\n",
              "      <td>Swimming</td>\n",
              "      <td>CHASAPIS, Spiridon</td>\n",
              "      <td>GRE</td>\n",
              "      <td>Men</td>\n",
              "      <td>100M Freestyle For Sailors</td>\n",
              "      <td>Silver</td>\n",
              "    </tr>\n",
              "  </tbody>\n",
              "</table>\n",
              "</div>"
            ],
            "text/plain": [
              "   Year    City     Sport  ... Gender                       Event   Medal\n",
              "0  1896  Athens  Aquatics  ...    Men              100M Freestyle    Gold\n",
              "1  1896  Athens  Aquatics  ...    Men              100M Freestyle  Silver\n",
              "2  1896  Athens  Aquatics  ...    Men  100M Freestyle For Sailors  Bronze\n",
              "3  1896  Athens  Aquatics  ...    Men  100M Freestyle For Sailors    Gold\n",
              "4  1896  Athens  Aquatics  ...    Men  100M Freestyle For Sailors  Silver\n",
              "\n",
              "[5 rows x 9 columns]"
            ]
          },
          "metadata": {},
          "execution_count": 5
        }
      ]
    },
    {
      "cell_type": "code",
      "metadata": {
        "colab": {
          "base_uri": "https://localhost:8080/",
          "height": 80
        },
        "id": "_mL6CCKBUT1S",
        "outputId": "a6570628-81e9-4f95-d372-61f1ebd3d1f6"
      },
      "source": [
        "df.head(1)"
      ],
      "execution_count": null,
      "outputs": [
        {
          "output_type": "execute_result",
          "data": {
            "text/html": [
              "<div>\n",
              "<style scoped>\n",
              "    .dataframe tbody tr th:only-of-type {\n",
              "        vertical-align: middle;\n",
              "    }\n",
              "\n",
              "    .dataframe tbody tr th {\n",
              "        vertical-align: top;\n",
              "    }\n",
              "\n",
              "    .dataframe thead th {\n",
              "        text-align: right;\n",
              "    }\n",
              "</style>\n",
              "<table border=\"1\" class=\"dataframe\">\n",
              "  <thead>\n",
              "    <tr style=\"text-align: right;\">\n",
              "      <th></th>\n",
              "      <th>Year</th>\n",
              "      <th>City</th>\n",
              "      <th>Sport</th>\n",
              "      <th>Discipline</th>\n",
              "      <th>Athlete</th>\n",
              "      <th>Country</th>\n",
              "      <th>Gender</th>\n",
              "      <th>Event</th>\n",
              "      <th>Medal</th>\n",
              "    </tr>\n",
              "  </thead>\n",
              "  <tbody>\n",
              "    <tr>\n",
              "      <th>0</th>\n",
              "      <td>1896</td>\n",
              "      <td>Athens</td>\n",
              "      <td>Aquatics</td>\n",
              "      <td>Swimming</td>\n",
              "      <td>HAJOS, Alfred</td>\n",
              "      <td>HUN</td>\n",
              "      <td>Men</td>\n",
              "      <td>100M Freestyle</td>\n",
              "      <td>Gold</td>\n",
              "    </tr>\n",
              "  </tbody>\n",
              "</table>\n",
              "</div>"
            ],
            "text/plain": [
              "   Year    City     Sport Discipline  ... Country Gender           Event Medal\n",
              "0  1896  Athens  Aquatics   Swimming  ...     HUN    Men  100M Freestyle  Gold\n",
              "\n",
              "[1 rows x 9 columns]"
            ]
          },
          "metadata": {},
          "execution_count": 6
        }
      ]
    },
    {
      "cell_type": "code",
      "metadata": {
        "colab": {
          "base_uri": "https://localhost:8080/"
        },
        "id": "tRcphaEpUT9W",
        "outputId": "aee2444a-2da9-4063-9daf-6db096f39a93"
      },
      "source": [
        "df[\"Year\"].unique()\n"
      ],
      "execution_count": null,
      "outputs": [
        {
          "output_type": "execute_result",
          "data": {
            "text/plain": [
              "array([1896, 1900, 1904, 1908, 1912, 1920, 1924, 1928, 1932, 1936, 1948,\n",
              "       1952, 1956, 1960, 1964, 1968, 1972, 1976, 1980, 1984, 1988, 1992,\n",
              "       1996, 2000, 2004, 2008, 2012])"
            ]
          },
          "metadata": {},
          "execution_count": 10
        }
      ]
    },
    {
      "cell_type": "code",
      "metadata": {
        "colab": {
          "base_uri": "https://localhost:8080/"
        },
        "id": "0PlL6mh2UUAD",
        "outputId": "f9556633-2140-415c-9095-7c6ba95cc1ea"
      },
      "source": [
        "df[\"City\"].unique()"
      ],
      "execution_count": null,
      "outputs": [
        {
          "output_type": "execute_result",
          "data": {
            "text/plain": [
              "array(['Athens', 'Paris', 'St Louis', 'London', 'Stockholm', 'Antwerp',\n",
              "       'Amsterdam', 'Los Angeles', 'Berlin', 'Helsinki',\n",
              "       'Melbourne / Stockholm', 'Rome', 'Tokyo', 'Mexico', 'Munich',\n",
              "       'Montreal', 'Moscow', 'Seoul', 'Barcelona', 'Atlanta', 'Sydney',\n",
              "       'Beijing'], dtype=object)"
            ]
          },
          "metadata": {},
          "execution_count": 11
        }
      ]
    },
    {
      "cell_type": "code",
      "metadata": {
        "colab": {
          "base_uri": "https://localhost:8080/"
        },
        "id": "hBCBtt0MUUDU",
        "outputId": "eb721183-9fd6-4c3e-f627-2a4e38ea9073"
      },
      "source": [
        "df[\"Sport\"].unique()"
      ],
      "execution_count": null,
      "outputs": [
        {
          "output_type": "execute_result",
          "data": {
            "text/plain": [
              "array(['Aquatics', 'Athletics', 'Cycling', 'Fencing', 'Gymnastics',\n",
              "       'Shooting', 'Tennis', 'Weightlifting', 'Wrestling', 'Archery',\n",
              "       'Basque Pelota', 'Cricket', 'Croquet', 'Equestrian', 'Football',\n",
              "       'Golf', 'Polo', 'Rowing', 'Rugby', 'Sailing', 'Tug of War',\n",
              "       'Boxing', 'Lacrosse', 'Roque', 'Hockey', 'Jeu de paume', 'Rackets',\n",
              "       'Skating', 'Water Motorsports', 'Modern Pentathlon', 'Ice Hockey',\n",
              "       'Basketball', 'Canoe / Kayak', 'Handball', 'Judo', 'Volleyball',\n",
              "       'Table Tennis', 'Badminton', 'Baseball', 'Softball', 'Taekwondo',\n",
              "       'Triathlon', 'Canoe'], dtype=object)"
            ]
          },
          "metadata": {},
          "execution_count": 12
        }
      ]
    },
    {
      "cell_type": "code",
      "metadata": {
        "colab": {
          "base_uri": "https://localhost:8080/"
        },
        "id": "ZXEQCA4RUUHo",
        "outputId": "5dba0a9c-29d1-4d2f-8a96-b21896c66c2e"
      },
      "source": [
        "df[\"Discipline\"].unique()"
      ],
      "execution_count": null,
      "outputs": [
        {
          "output_type": "execute_result",
          "data": {
            "text/plain": [
              "array(['Swimming', 'Athletics', 'Cycling Road', 'Cycling Track',\n",
              "       'Fencing', 'Artistic G.', 'Shooting', 'Tennis', 'Weightlifting',\n",
              "       'Wrestling Gre-R', 'Water polo', 'Archery', 'Basque Pelota',\n",
              "       'Cricket', 'Croquet', 'Jumping', 'Football', 'Golf', 'Polo',\n",
              "       'Rowing', 'Rugby', 'Sailing', 'Tug of War', 'Diving', 'Boxing',\n",
              "       'Lacrosse', 'Roque', 'Wrestling Free.', 'Hockey', 'Jeu de Paume',\n",
              "       'Rackets', 'Figure skating', 'Water Motorspor', 'Dressage',\n",
              "       'Eventing', 'Modern Pentath.', 'Vaulting', 'Ice Hockey',\n",
              "       'Basketball', 'Canoe / Kayak F', 'Handball', 'Judo', 'Volleyball',\n",
              "       'Canoe / Kayak S', 'Synchronized S.', 'Rhythmic G.',\n",
              "       'Table Tennis', 'Badminton', 'Baseball', 'Mountain Bike',\n",
              "       'Softball', 'Beach volley.', 'Trampoline', 'Taekwondo',\n",
              "       'Triathlon', 'BMX', 'Marathon swimming', 'Synchronized Swimming',\n",
              "       'Water Polo', 'Canoe Slalom', 'Canoe Sprint', 'Cycling BMX',\n",
              "       'Gymnastics Artistic', 'Gymnastics Rhythmic', 'Modern Pentathlon',\n",
              "       'Beach Volleyball', 'Wrestling Freestyle'], dtype=object)"
            ]
          },
          "metadata": {},
          "execution_count": 13
        }
      ]
    },
    {
      "cell_type": "code",
      "metadata": {
        "colab": {
          "base_uri": "https://localhost:8080/"
        },
        "id": "WeC9NKETVksb",
        "outputId": "e393993c-e03b-4ee4-a3b8-ac542bc87adb"
      },
      "source": [
        "df[\"Country\"].unique()"
      ],
      "execution_count": null,
      "outputs": [
        {
          "output_type": "execute_result",
          "data": {
            "text/plain": [
              "array(['HUN', 'AUT', 'GRE', 'USA', 'GER', 'GBR', 'FRA', 'AUS', 'DEN',\n",
              "       'SUI', 'ZZX', 'NED', 'BEL', 'IND', 'CAN', 'BOH', 'SWE', 'NOR',\n",
              "       'ESP', 'ITA', 'CUB', 'ANZ', 'RSA', 'FIN', 'RU1', 'EST', 'TCH',\n",
              "       'NZL', 'BRA', 'JPN', 'LUX', 'ARG', 'POL', 'POR', 'URU', 'YUG',\n",
              "       'ROU', 'HAI', 'EGY', 'PHI', 'IRL', 'CHI', 'LAT', 'MEX', 'TUR',\n",
              "       'PAN', 'JAM', 'SRI', 'KOR', 'PUR', 'PER', 'IRI', 'TRI', 'URS',\n",
              "       'VEN', 'BUL', 'LIB', 'EUA', 'ISL', 'PAK', 'BAH', 'BWI', 'TPE',\n",
              "       'ETH', 'MAR', 'GHA', 'IRQ', 'SIN', 'TUN', 'KEN', 'NGR', 'GDR',\n",
              "       'FRG', 'UGA', 'CMR', 'MGL', 'PRK', 'COL', 'NIG', 'THA', 'BER',\n",
              "       'TAN', 'GUY', 'ZIM', 'CHN', 'CIV', 'ZAM', 'DOM', 'ALG', 'SYR',\n",
              "       'SUR', 'CRC', 'INA', 'SEN', 'DJI', 'AHO', 'ISV', 'EUN', 'NAM',\n",
              "       'QAT', 'LTU', 'MAS', 'CRO', 'ISR', 'SLO', 'IOP', 'RUS', 'UKR',\n",
              "       'ECU', 'BDI', 'MOZ', 'CZE', 'BLR', 'TGA', 'KAZ', 'UZB', 'SVK',\n",
              "       'MDA', 'GEO', 'HKG', 'ARM', 'AZE', 'BAR', 'KSA', 'KGZ', 'KUW',\n",
              "       'VIE', 'MKD', 'SCG', 'ERI', 'PAR', 'UAE', 'SRB', 'SUD', 'MRI',\n",
              "       'TOG', 'TJK', 'AFG', nan, 'BRN', 'GUA', 'GRN', 'TTO', 'BOT', 'MNE',\n",
              "       'CYP', 'SGP', 'GAB'], dtype=object)"
            ]
          },
          "metadata": {},
          "execution_count": 14
        }
      ]
    },
    {
      "cell_type": "code",
      "metadata": {
        "colab": {
          "base_uri": "https://localhost:8080/"
        },
        "id": "Tv3uw58QVudm",
        "outputId": "26453b69-ddbf-4649-ebf5-38f49000acaa"
      },
      "source": [
        "df[\"Gender\"].unique()"
      ],
      "execution_count": null,
      "outputs": [
        {
          "output_type": "execute_result",
          "data": {
            "text/plain": [
              "array(['Men', 'Women'], dtype=object)"
            ]
          },
          "metadata": {},
          "execution_count": 15
        }
      ]
    },
    {
      "cell_type": "code",
      "metadata": {
        "colab": {
          "base_uri": "https://localhost:8080/"
        },
        "id": "9RUXnwInVug0",
        "outputId": "e8a96e44-ecb7-4edb-a7e6-3a86ba6afc89"
      },
      "source": [
        "df[\"Event\"].unique()"
      ],
      "execution_count": null,
      "outputs": [
        {
          "output_type": "execute_result",
          "data": {
            "text/plain": [
              "array(['100M Freestyle', '100M Freestyle For Sailors', '1200M Freestyle',\n",
              "       '400M Freestyle', '100M', '110M Hurdles', '1500M', '400M', '800M',\n",
              "       'Discus Throw', 'High Jump', 'Long Jump', 'Marathon', 'Pole Vault',\n",
              "       'Shot Put', 'Triple Jump', 'Individual Road Race', '100KM', '10KM',\n",
              "       '12-Hour Race', '1KM Time Trial', 'Sprint Indivual',\n",
              "       'Foil Individual', 'Foil, Masters', 'Sabre Individual',\n",
              "       'Horizontal Bar', 'Parallel Bars', 'Pommel Horse', 'Rings',\n",
              "       'Rope Climbing', 'Team, Horizontal Bar', 'Team, Parallel Bars',\n",
              "       'Vault', '25M Army Pistol', '25M Rapid Fire Pistol (60 Shots)',\n",
              "       '50M Pistol (60 Shots)', 'Army Rifle, 200M', 'Army Rifle, 300M',\n",
              "       'Doubles', 'Singles', 'Heavyweight - One Hand Lift',\n",
              "       'Heavyweight - Two Hand Lift', 'Open Event', '1500M Freestyle',\n",
              "       '200M Backstroke', '200M Freestyle', '200M Obstacle Event',\n",
              "       '200M Team Swimming', '4000M Freestyle', 'Underwater Swimming',\n",
              "       'Water Polo', 'Au Chapelet, 33M', 'Au Chapelet, 50M',\n",
              "       'Au Cordon Doré, 33M', 'Au Cordon Doré, 50M',\n",
              "       'Sur La Perche À La Herse', 'Sur La Perche À La Pyramide', '200M',\n",
              "       '200M Hurdles', '3000M Steeplechase', '4000M Steeplechase',\n",
              "       '400M Hurdles', '5000M Team', '60M', 'Hammer Throw',\n",
              "       'High Jump, Standing', 'Long Jump, Standing',\n",
              "       'Triple Jump, Standing', 'Cesta Punta', 'Cricket', 'Double',\n",
              "       'Individual 1 Ball', 'Individual 2 Balls', '25 Kilometres',\n",
              "       'Individual', 'Long Jump Individual', 'Épée Individual',\n",
              "       'Épée, Amateurs And Masters', 'Épée, Masters', 'Sabre, Masters',\n",
              "       'Football', 'Individual All-Round', 'Polo',\n",
              "       'Eight With Coxswain (8+)', 'Four-Oared Shell With Coxswain (4-)',\n",
              "       'Pair-Oared Shell With Coxswain (2+)', 'Single Sculls (1X)',\n",
              "       'Rugby', '0.5-1T', '10-20T', '3-10T', 'Open Class',\n",
              "       '50M Army Pistol, Team', 'Army Rifle, 300M, 3 Positions',\n",
              "       'Army Rifle, 300M, Kneeling', 'Army Rifle, 300M, Prone',\n",
              "       'Army Rifle, 300M, Standing', 'Free Rifle, Team',\n",
              "       'Trap (125 Targets)', 'Mixed Doubles', 'Tug Of War',\n",
              "       '10M Platform', 'Plunge For Distance', '100M Backstroke',\n",
              "       '400M Breaststroke', '4X50Y Freestyle Relay',\n",
              "       '50Y Freestyle (45.72M)', '880Y Freestyle (804.66M)',\n",
              "       'Double American Round (60Y - 50Y - 40Y)',\n",
              "       'Double Columbia Round (50Y - 40Y - 30Y)',\n",
              "       'Double National Round (60Y - 50Y)',\n",
              "       'Double York Round (100Y - 80Y - 60Y)', 'Team Round 60Y',\n",
              "       'Teams Fita Round', '4Miles Team', '56LB Weight Throw (25.4KG)',\n",
              "       'Decathlon', 'Triathlon (Long Jump / Shot Put / 100 Yards)',\n",
              "       '- 47.63KG (Flyweight)', '+ 71.67KG (Heavyweight)',\n",
              "       '47.63 - 52.16KG (Bantamweight)', '52.16 - 56.7KG (Featherweight)',\n",
              "       '56.7 - 61.24KG (Lightweight)', '61.24 - 65.77KG (Welterweight)',\n",
              "       '65.77 - 71.67KG (Middleweight)', '1 Mile (1609.3M)',\n",
              "       '1/2 Mile (804.7M)', '1/3 Mile (536.5M)', '1/4 Mile (402.3M)',\n",
              "       '2 Miles (3.218KM)', '25 Miles (40.232KM)', '5 Miles (8.046KM)',\n",
              "       'Foil Team', 'Stick, Single', 'Team', 'Club Swinging',\n",
              "       'Combined 3 Events', 'Combined 4 Events', 'Team Competition',\n",
              "       'Lacrosse', 'Coxless Pair (2-)', 'Double Sculls (2X)',\n",
              "       'Four Without Coxswain (4-)', 'All-Around Dumbbell Contest',\n",
              "       '- 47.6KG (Light-Flyweight)', '47.6 - 52.16KG (Flyweight)',\n",
              "       '52.16 - 56.7KG (Bantamweight)', '56.7 - 61.23KG (Featherweight)',\n",
              "       '61.23 - 65.77KG (Lightweight)', '65.77 - 71.67KG (Welterweight)',\n",
              "       '3M Springboard', '200M Breaststroke', '4X200M Freestyle Relay',\n",
              "       'Continental Style 50M', 'National Round (60Y - 50Y)',\n",
              "       'York Round (100Y - 80Y - 60Y)', '10Miles Walk (16093M)',\n",
              "       '3200M Steeplechase', '3500M Walk', '3Miles Team (4828M)',\n",
              "       '4X400M Relay', '5 Miles (8047M)', 'Discus Throw Ancient Style',\n",
              "       'Javelin Throw', 'Javelin Throw Freestyle',\n",
              "       '- 52.62KG (Bantamweight)', '52.62 - 57.15KG (Featherweight)',\n",
              "       '57.15 - 63.5KG (Lightweight)', '63.5 - 71.67KG (Middleweight)',\n",
              "       '1980 Yards Pursuit, Team', '2000M Tandem', '20KM', '5000M',\n",
              "       'One Lap (660Y) Sprint', 'Épée Team', 'Sabre Team', 'Hockey',\n",
              "       '12M', '6M', '7M', '8M', '1000Y Free Rifle, Prone',\n",
              "       '100M Running Deer, Double Shots',\n",
              "       '100M Running Deer, Single Shots',\n",
              "       '100M Running Deer, Single Shots, Team',\n",
              "       '25Y Small Bore Rifle, Disappearing Target',\n",
              "       '25Y Small Bore Rifle, Moving Target',\n",
              "       '300M Free Rifle 3 Positions (3X40 Shots)',\n",
              "       '50+100Y Small Bore Rifle, Team', '50M Rifle Prone (60 Shots)',\n",
              "       '50Y Army Pistol, Team', 'Clay Pigeons, Team', 'Rifle, Team',\n",
              "       'Pairs', 'Special Figures', 'Doubles Indoor', 'Singles Indoor',\n",
              "       '8M Class C', 'Class B Up To 60 Feet', 'Open Class A',\n",
              "       '- 54KG (Bantamweight)', '+ 73KG (Heavyweight)',\n",
              "       '54 - 60.3KG (Featherweight)', '60.3 - 66.6KG (Lightweight)',\n",
              "       '66.6 - 73KG (Middleweight)', '- 66.6KG (Lightweight)',\n",
              "       '+ 93KG (Super Heavyweight)', '73 - 93KG (Light-Heavyweight)',\n",
              "       'Plain High Diving', '4X100M Freestyle Relay', '10000M',\n",
              "       '10000M Walk', '3000M Team', '4X100M Relay',\n",
              "       'Cross Country Individual', 'Cross Country Team',\n",
              "       'Discus Throw, Both Hands', 'Javelin Throw, Both Hands',\n",
              "       'Pentathlon', 'Shot Put, Both Hands', 'Individual Time Trial',\n",
              "       'Team Time Trial', 'Team, Free System', 'Team, Swedish System',\n",
              "       'Individual Competition', 'Coxed Fours Jugriggers', '10M',\n",
              "       '25M Small Bore Rifle, Team', '25M Small Rifle',\n",
              "       '30M Army Pistol, Team', '50M Small Bore Rifle, Team',\n",
              "       '600M Free Rifle', 'Mixed Doubles Indoor',\n",
              "       '- 60KG (Featherweight)', '+ 82.5KG (Super Heavyweight)',\n",
              "       '60 - 67.5KG (Lightweight)', '67.5 - 75KG (Middleweight)',\n",
              "       '75 - 82.5KG (Light-Heavyweight)', 'Fixed Bird Target Large Birds',\n",
              "       'Fixed Bird Target Large Birds Teams',\n",
              "       'Fixed Bird Target Small Bird, Teams',\n",
              "       'Fixed Bird Target Small Birds', 'Moving Bird Target 28M Teams',\n",
              "       'Moving Bird Target 33M Teams', 'Moving Bird Target 50M Teams',\n",
              "       'Moving Bird Target, 28M', 'Moving Bird Target, 33M',\n",
              "       'Moving Bird Target, 50M', '3000M Walk', '- 50.8KG (Flyweight)',\n",
              "       '+ 79.38KG (Heavyweight)', '50.8 - 53.52KG (Bantamweight)',\n",
              "       '53.52 - 57.15KG (Featherweight)', '57.15 - 61.24KG (Lightweight)',\n",
              "       '61.24 - 66.68KG (Welterweight)', '66.68 - 72.57KG (Middleweight)',\n",
              "       '72.57 - 79.38KG (Light-Heavyweight)', '50KM',\n",
              "       'Team Pursuit (4000M)', 'Figure Riding Individual',\n",
              "       'Figure Riding Team', 'Ice Hockey', '10M (Rating 1907)',\n",
              "       '10M (Rating 1919)', '12 Foot Dinghy', '12M (Rating 1907)',\n",
              "       '12M (Rating 1919)', '18 Foot Dinghy', '30M Sq', '40M Sq',\n",
              "       '6.5M (Rating 1919)', '6M (Rating 1907)', '6M (Rating 1919)',\n",
              "       '8M (Rating 1907)', '8M (Rating 1919)',\n",
              "       '100M Running Deer, Double Shots, Team',\n",
              "       '300+600M Free Rifle, Team, Prone', '300M Free Rifle, Prone, Team',\n",
              "       '300M Free Rifle, Standing, Team',\n",
              "       '50M Small Bore Rifle, Standing, Individual',\n",
              "       '600M Free Rifle, Prone', '600M Free Rifle, Team',\n",
              "       '- 60KG, One-Two Hand 3 Events (Featherweight)',\n",
              "       '+ 82.5KG, One-Two Hand 3 Events (Heavyweight)',\n",
              "       '60 - 67.5KG, One-Two Hand 3 Events (Lightweight)',\n",
              "       '67.5 - 75KG, One-Two Hand 3 Events (Middleweight)',\n",
              "       '75 - 82.5KG, One-Two Hand 3 E. (Light-Heavyweight)',\n",
              "       '+ 80KG (Heavyweight)', '75 - 80KG (Light-Heavyweight)',\n",
              "       '+ 82KG (Super Heavyweight)', '75 - 82KG (Light-Heavyweight)',\n",
              "       'Sidehorse Vault', 'Olympic Class Monotype',\n",
              "       '400, 600, 800M Free Rifle, Team', '600M Free Rifle, Individual',\n",
              "       '- 60KG, One-Two Hand 5 Events (Featherweight)',\n",
              "       '+ 82.5KG, One-Two Hand 5 Events (Heavyweight)',\n",
              "       '60 - 67.5KG, One-Two Hand 5 Events (Lightweight)',\n",
              "       '67.5 - 75KG, One-Two Hand 5 Events (Middleweight)',\n",
              "       '75 - 82.5KG, One-Two Hand 5 E. (Light-Heavyweight)',\n",
              "       '- 56KG (Bantamweight)', '+ 87KG (Heavyweight)',\n",
              "       '56 - 61KG (Featherweight)', '61 - 66KG (Lightweight)',\n",
              "       '66 - 72KG (Welterweight)', '72 - 79KG (Middleweight)',\n",
              "       '79 - 87KG (Light-Heavyweight)', '- 58KG (Bantamweight)',\n",
              "       '58 - 62KG (Featherweight)', '62 - 67.5KG (Lightweight)',\n",
              "       '1KM Pursuit', '12 Foot Dinghy Individual',\n",
              "       '- 60KG, Total (Featherweight)', '+ 82.5KG, Total (Heavyweight)',\n",
              "       '60 - 67.5KG, Total (Lightweight)',\n",
              "       '67.5 - 75KG, Total (Middleweight)',\n",
              "       '75 - 82.5KG, Total (Light-Heavyweight)',\n",
              "       '58 - 60KG (Featherweight)', '50KM Walk', '80M Hurdles',\n",
              "       '50.8 - 54KG (Bantamweight)', '54 - 57.15KG (Featherweight)',\n",
              "       'Floor Exercises', 'Indian Clubs', 'Tumbling',\n",
              "       'Two-Person Keelboat Open (Star)', '+ 87KG (Super Heavyweight)',\n",
              "       'Basketball', 'C-1 1000M (Canoe Single)', 'C-2 10000M',\n",
              "       'C-2 1000M (Canoe Double)', 'Folding K-1 10000M',\n",
              "       'Folding K-2 10000M', 'K-1 10000M', 'K-1 1000M (Kayak Single)',\n",
              "       'K-2 10000M', 'K-2 1000M (Kayak Double)', 'Handball',\n",
              "       '- 51KG (Flyweight)', '51 - 54KG (Bantamweight)',\n",
              "       '54 - 58KG (Featherweight)', '58 - 62KG (Lightweight)',\n",
              "       '62 - 67KG (Welterweight)', '67 - 73KG (Middleweight)',\n",
              "       '73 - 80KG (Light-Heavyweight)', 'C-1 10000M',\n",
              "       'K-1 500M (Kayak Single)', 'Dragon', 'Firefly Class',\n",
              "       'Swallow (Golondrina)', '- 56KG, Total (Bantamweight)',\n",
              "       '56 - 60KG, Total (Featherweight)', '- 52KG (Flyweight)',\n",
              "       '52 - 57KG (Bantamweight)', '57 - 63KG (Featherweight)',\n",
              "       '63 - 67KG (Lightweight)', '67 - 73KG (Welterweight)',\n",
              "       '73 - 79KG (Middleweight)', '57 - 61KG (Featherweight)',\n",
              "       '61 - 67KG (Lightweight)', '+ 81KG (Heavyweight)',\n",
              "       '54 - 57KG (Featherweight)', '57 - 60KG (Lightweight)',\n",
              "       '60 - 63.5KG (Light-Welterweight)', '63.5 - 67KG (Welterweight)',\n",
              "       '67 - 71KG (Light-Middleweight)', '71-75KG',\n",
              "       '75 - 81KG (Light-Heavyweight)', 'Balance Beam',\n",
              "       'Team, Portable Apparatus', 'Uneven Bars', '5.5M',\n",
              "       'Single-Handed Dinghy (Finn)',\n",
              "       '100M Running Deer, Single/Double Shots',\n",
              "       '50M Rifle 3 Positions (3X40 Shots)',\n",
              "       '+ 90KG, Total (Heavyweight)',\n",
              "       '82.5 - 90KG, Total (Middle-Heavyweight)', '100M Butterfly',\n",
              "       '200M Butterfly', '20KM Walk', 'Sharpie 12M2',\n",
              "       '4X100M Medley Relay', 'K-1 4X500M', 'K-2 500M (Kayak Double)',\n",
              "       'Flying Dutchman', '400M Individual Medley',\n",
              "       'K-4 1000M (Kayak Four)', 'Individual Pursuit',\n",
              "       '- 68KG (Lightweight)', '68 - 80KG (Middleweight)',\n",
              "       'Open Category', 'Volleyball', '+ 97KG (Heavyweight)',\n",
              "       '63 - 70KG (Lightweight)', '70 - 78KG (Welterweight)',\n",
              "       '78 - 87KG (Middleweight)', '87 - 97KG (Light-Heavyweight)',\n",
              "       '+ 97KG (Super Heavyweight)', '100M Breaststroke',\n",
              "       '200M Individual Medley', '800M Freestyle',\n",
              "       '- 48KG (Light-Flyweight)', '48 - 51KG (Flyweight)',\n",
              "       'Skeet (125 Targets)', 'Individual Fita Round', '100M Hurdles',\n",
              "       'C-1 (Canoe Single)', 'C-2 (Canoe Double)', 'K-1 (Kayak Single)',\n",
              "       '- 63KG (Lightweight)', '+ 93KG (Heavyweight)',\n",
              "       '63 - 70KG (Half-Middleweight)', '70 - 80KG (Middleweight)',\n",
              "       '80 - 93KG (Half-Heavyweight)',\n",
              "       'Fleet/Match Race Keelboat Open (Soling)', 'Tempest',\n",
              "       '50M Running Target (30+30 Shots)', '- 52KG, Total (Flyweight)',\n",
              "       '+ 110KG, Total (Super Heavyweight)',\n",
              "       '52 - 56KG, Total (Bantamweight)',\n",
              "       '91 - 110KG, Total (Heavyweight)', '+ 100KG (Super Heavyweight)',\n",
              "       '48 - 52KG (Flyweight)', '57 - 62KG (Featherweight)',\n",
              "       '62 - 68KG (Lightweight)', '68 - 74KG (Welterweight)',\n",
              "       '74 - 82KG (Middleweight)', '82 - 90KG (Light-Heavyweight)',\n",
              "       '90 - 100KG (Heavyweight)', 'C-1 500M (Canoe Single)',\n",
              "       'C-2 500M (Canoe Double)', 'Pair Without Coxswain (2-)',\n",
              "       'Quadruple Sculls With Coxswain (4X)',\n",
              "       'Quadruple Sculls Without Coxswain (4X)',\n",
              "       '470 - Two Person Dinghy', 'Tornado - Multihull', '- 60 KG',\n",
              "       '+ 95KG (Heavyweight)', '60 - 65KG (Half-Lightweight)',\n",
              "       '65 - 71KG (Lightweight)', '71 - 78KG (Half-Middleweight)',\n",
              "       '78 - 86KG (Middleweight)', '86 - 95KG (Half-Heavyweight)',\n",
              "       '100 - 110KG, Total (Heavyweight)',\n",
              "       '90 - 100KG, Total (First-Heavyweight)', 'Duet', 'Solo', '3000M',\n",
              "       'Heptathlon', '+ 91KG (Super Heavyweight)',\n",
              "       '81 - 91KG (Heavyweight)', 'K-4 500M (Kayak Four)', 'Points Race',\n",
              "       'Board (Windglider)', '10M Air Rifle (40 Shots)',\n",
              "       '10M Air Rifle (60 Shots)', '25M Pistol (30+30 Shots)',\n",
              "       '50M Rifle 3 Positions (3X20 Shots)', '50M Freestyle', 'Sprint',\n",
              "       'Board (Division Ii)', '10M Air Pistol (40 Shots)',\n",
              "       '10M Air Pistol (60 Shots)', '100 - 130KG (Super Heavyweight)',\n",
              "       'Individual (Fita Olympic Round - 70M)',\n",
              "       'Team (Fita Olympic Round - 70M)', 'Baseball',\n",
              "       '- 48KG (Extra-Lightweight)', '+ 72KG (Heavyweight)',\n",
              "       '48 - 52KG (Half-Lightweight)', '52 - 56KG (Lightweight)',\n",
              "       '56 - 61KG (Half-Middleweight)', '61 - 66KG (Middleweight)',\n",
              "       '66 - 72KG (Half-Heavyweight)', 'Coxless Four (4-)',\n",
              "       'Board (Lechner)', 'Single-Handed Dinghy (Europe)',\n",
              "       'Cross-Country', 'Group Competition', '+ 100KG (Heavyweight)',\n",
              "       '60 - 66KG (Half-Lightweight)', '66 - 73KG (Lightweight)',\n",
              "       '73 - 81KG (Half-Middleweight)', '81 - 90KG (Middleweight)',\n",
              "       '90 - 100KG (Half-Heavyweight)', 'Lightweight Coxless Four (4-)',\n",
              "       'Lightweight Double Sculls (2X)', 'Board (Mistral)',\n",
              "       'Single-Handed Dinghy Open (Laser)', 'Double Trap (120 Targets)',\n",
              "       'Double Trap (150 Targets)', 'Softball', 'Beach Volleyball',\n",
              "       '- 54KG, Total (Flyweight)', '+ 108KG, Total (Super Heavyweight)',\n",
              "       '54 - 59KG, Total (Bantamweight)',\n",
              "       '59 - 64KG, Total (Featherweight)',\n",
              "       '64 - 70KG, Total (Lightweight)',\n",
              "       '70 - 76KG, Total (Middleweight)',\n",
              "       '76 - 83KG, Total (Light-Heavyweight)',\n",
              "       '83 - 91KG, Total (Middle-Heavyweight)',\n",
              "       '91 - 99KG, Total (First-Heavyweight)',\n",
              "       '99 - 108KG, Total (Heavyweight)',\n",
              "       'Synchronized Diving 10M Platform',\n",
              "       'Synchronized Diving 3M Springboard', '20KM Race Walk',\n",
              "       '500M Time Trial', 'Keirin', 'Madison', 'Olympic Sprint',\n",
              "       '+ 78KG (Heavyweight)', '52 - 57KG (Lightweight)',\n",
              "       '57 - 63KG (Half-Middleweight)', '63 - 70KG (Middleweight)',\n",
              "       '70 - 78KG (Half-Heavyweight)', '49Er - Skiff',\n",
              "       '10M Running Target (30+30 Shots)', 'Skeet (75 Targets)',\n",
              "       'Trap (75 Targets)', '- 49 KG', '- 58 KG', '+ 67 KG', '+ 80 KG',\n",
              "       '49 - 57 KG', '57 - 67 KG', '58 - 68 KG', '68 - 80 KG', '+ 105KG',\n",
              "       '+ 75KG', '105KG', '48KG', '53KG', '56KG', '58KG', '62KG', '63KG',\n",
              "       '69KG', '75KG', '77KG', '85KG', '94KG', '48 - 54KG', '54 - 58KG',\n",
              "       '58 - 63KG', '63 - 69KG', '69 - 76KG', '76 - 85KG', '85 - 97KG',\n",
              "       '97 - 130KG', '48KG (Light Flywieght)', '60 - 64 KG', '64 - 69 KG',\n",
              "       '69 - 75 KG', 'Team Sprint', '- 48 KG', 'Star - Keelboat',\n",
              "       'Yngling - Keelboat', '- 48KG', '- 55KG', '48 - 55KG', '55 - 60KG',\n",
              "       '55 - 63KG', '60 - 66KG', '63 - 72KG', '66 - 74KG', '74 - 84KG',\n",
              "       '84 - 96KG', '96 - 120KG', 'Marathon 10KM',\n",
              "       'Finn - Heavyweight Dinghy', 'Laser - One Person Dinghy',\n",
              "       'Laser Radial - One Person Dinghy', 'Rs:X - Windsurfer',\n",
              "       'Synchronized 10M', 'Synchronized 3M', '200M Medley',\n",
              "       '400M Medley', '4X100M Freestyle', '4X100M Medley',\n",
              "       '4X200M Freestyle', '3000M Steeple', '+ 91KG', '46 - 49KG',\n",
              "       '51 KG', '52KG', '57 - 60KG', '60 KG', '75 - 81KG', '75 KG',\n",
              "       '81 - 91KG', 'C-1 (Single)', 'C-2 (Double)', 'K-1 (Single)',\n",
              "       'C-1 1000M', 'C-1 200M', 'C-2 1000M', 'K-1 1000M', 'K-1 200M',\n",
              "       'K-1 500M', 'K-2 1000M', 'K-2 200M', 'K-2 500M', 'K-4 1000M',\n",
              "       'K-4 500M', 'Individual Road', 'Time Trial', 'Omnium',\n",
              "       'Team Pursuit', 'Beam', 'Individual All-Around', '+ 100KG',\n",
              "       '+ 78KG', '48 - 52KG', '52 - 57KG', '57 - 63KG', '63 - 70KG',\n",
              "       '66 - 73KG', '70 - 78KG', '73 - 81KG', '81 - 90KG', '90 - 100KG',\n",
              "       'Coxless Four', 'Coxless Pair 2-', 'Double Sculls',\n",
              "       'Eight With Coxswain', 'Lightweight 4', 'Lightweight Doubles',\n",
              "       'Quadruple Sculls', 'Single Sculls', '470', 'Elliott 6M', 'Finn',\n",
              "       'Laser', 'Laser Radial', 'Rs:X', 'Star', '10M Air Pistol',\n",
              "       '10M Air Rifle', '25M Pistol', '25M Rapid Pistol', '50M Pistol',\n",
              "       '50M Rifle 3 Positions', '50M Rifle Prone', 'Double Trap 150',\n",
              "       'Skeet', 'Trap', '+105KG', '+75KG', '-56KG', 'Wf 120KG',\n",
              "       'Wf 48 KG', 'Wf 55 KG', 'Wf 60 KG', 'Wf 63 KG', 'Wf 66 KG',\n",
              "       'Wf 72 KG', 'Wf 74 KG', 'Wf 84 KG', 'Wf 96 KG', 'Wg 120 KG',\n",
              "       'Wg 55 KG', 'Wg 60 KG', 'Wg 66 KG', 'Wg 74 KG', 'Wg 84 KG',\n",
              "       'Wg 96 KG'], dtype=object)"
            ]
          },
          "metadata": {},
          "execution_count": 16
        }
      ]
    },
    {
      "cell_type": "code",
      "metadata": {
        "colab": {
          "base_uri": "https://localhost:8080/"
        },
        "id": "ilzWwLR6Vujm",
        "outputId": "400ce2d5-7980-4e88-a68e-d34747ec3323"
      },
      "source": [
        "for Country in df[\"Country\"].unique():\n",
        " print(Country)\n",
        " len(df[df[\"Country\"]==\"AUS\"])\n"
      ],
      "execution_count": null,
      "outputs": [
        {
          "output_type": "stream",
          "name": "stdout",
          "text": [
            "HUN\n",
            "AUT\n",
            "GRE\n",
            "USA\n",
            "GER\n",
            "GBR\n",
            "FRA\n",
            "AUS\n",
            "DEN\n",
            "SUI\n",
            "ZZX\n",
            "NED\n",
            "BEL\n",
            "IND\n",
            "CAN\n",
            "BOH\n",
            "SWE\n",
            "NOR\n",
            "ESP\n",
            "ITA\n",
            "CUB\n",
            "ANZ\n",
            "RSA\n",
            "FIN\n",
            "RU1\n",
            "EST\n",
            "TCH\n",
            "NZL\n",
            "BRA\n",
            "JPN\n",
            "LUX\n",
            "ARG\n",
            "POL\n",
            "POR\n",
            "URU\n",
            "YUG\n",
            "ROU\n",
            "HAI\n",
            "EGY\n",
            "PHI\n",
            "IRL\n",
            "CHI\n",
            "LAT\n",
            "MEX\n",
            "TUR\n",
            "PAN\n",
            "JAM\n",
            "SRI\n",
            "KOR\n",
            "PUR\n",
            "PER\n",
            "IRI\n",
            "TRI\n",
            "URS\n",
            "VEN\n",
            "BUL\n",
            "LIB\n",
            "EUA\n",
            "ISL\n",
            "PAK\n",
            "BAH\n",
            "BWI\n",
            "TPE\n",
            "ETH\n",
            "MAR\n",
            "GHA\n",
            "IRQ\n",
            "SIN\n",
            "TUN\n",
            "KEN\n",
            "NGR\n",
            "GDR\n",
            "FRG\n",
            "UGA\n",
            "CMR\n",
            "MGL\n",
            "PRK\n",
            "COL\n",
            "NIG\n",
            "THA\n",
            "BER\n",
            "TAN\n",
            "GUY\n",
            "ZIM\n",
            "CHN\n",
            "CIV\n",
            "ZAM\n",
            "DOM\n",
            "ALG\n",
            "SYR\n",
            "SUR\n",
            "CRC\n",
            "INA\n",
            "SEN\n",
            "DJI\n",
            "AHO\n",
            "ISV\n",
            "EUN\n",
            "NAM\n",
            "QAT\n",
            "LTU\n",
            "MAS\n",
            "CRO\n",
            "ISR\n",
            "SLO\n",
            "IOP\n",
            "RUS\n",
            "UKR\n",
            "ECU\n",
            "BDI\n",
            "MOZ\n",
            "CZE\n",
            "BLR\n",
            "TGA\n",
            "KAZ\n",
            "UZB\n",
            "SVK\n",
            "MDA\n",
            "GEO\n",
            "HKG\n",
            "ARM\n",
            "AZE\n",
            "BAR\n",
            "KSA\n",
            "KGZ\n",
            "KUW\n",
            "VIE\n",
            "MKD\n",
            "SCG\n",
            "ERI\n",
            "PAR\n",
            "UAE\n",
            "SRB\n",
            "SUD\n",
            "MRI\n",
            "TOG\n",
            "TJK\n",
            "AFG\n",
            "nan\n",
            "BRN\n",
            "GUA\n",
            "GRN\n",
            "TTO\n",
            "BOT\n",
            "MNE\n",
            "CYP\n",
            "SGP\n",
            "GAB\n"
          ]
        }
      ]
    },
    {
      "cell_type": "code",
      "metadata": {
        "colab": {
          "base_uri": "https://localhost:8080/"
        },
        "id": "NJugNTkHVumM",
        "outputId": "29314624-9c11-49fd-a3d6-405094641b7d"
      },
      "source": [
        "for Year in df[\"Year\"].unique():\n",
        " print(Year)\n",
        " len(df[df[\"Gender\"]==\"Women\"])"
      ],
      "execution_count": null,
      "outputs": [
        {
          "output_type": "stream",
          "name": "stdout",
          "text": [
            "1896\n",
            "1900\n",
            "1904\n",
            "1908\n",
            "1912\n",
            "1920\n",
            "1924\n",
            "1928\n",
            "1932\n",
            "1936\n",
            "1948\n",
            "1952\n",
            "1956\n",
            "1960\n",
            "1964\n",
            "1968\n",
            "1972\n",
            "1976\n",
            "1980\n",
            "1984\n",
            "1988\n",
            "1992\n",
            "1996\n",
            "2000\n",
            "2004\n",
            "2008\n",
            "2012\n"
          ]
        }
      ]
    },
    {
      "cell_type": "code",
      "metadata": {
        "colab": {
          "base_uri": "https://localhost:8080/"
        },
        "id": "Nsy1NGUUVupw",
        "outputId": "73634648-8f76-46ae-e647-5cd32ecde7e8"
      },
      "source": [
        "for Sport in df[\"Sport\"].unique():\n",
        " print(Sport)\n",
        " len(df[df[\"Sport\"]==\"Polo\"])"
      ],
      "execution_count": null,
      "outputs": [
        {
          "output_type": "stream",
          "name": "stdout",
          "text": [
            "Aquatics\n",
            "Athletics\n",
            "Cycling\n",
            "Fencing\n",
            "Gymnastics\n",
            "Shooting\n",
            "Tennis\n",
            "Weightlifting\n",
            "Wrestling\n",
            "Archery\n",
            "Basque Pelota\n",
            "Cricket\n",
            "Croquet\n",
            "Equestrian\n",
            "Football\n",
            "Golf\n",
            "Polo\n",
            "Rowing\n",
            "Rugby\n",
            "Sailing\n",
            "Tug of War\n",
            "Boxing\n",
            "Lacrosse\n",
            "Roque\n",
            "Hockey\n",
            "Jeu de paume\n",
            "Rackets\n",
            "Skating\n",
            "Water Motorsports\n",
            "Modern Pentathlon\n",
            "Ice Hockey\n",
            "Basketball\n",
            "Canoe / Kayak\n",
            "Handball\n",
            "Judo\n",
            "Volleyball\n",
            "Table Tennis\n",
            "Badminton\n",
            "Baseball\n",
            "Softball\n",
            "Taekwondo\n",
            "Triathlon\n",
            "Canoe\n"
          ]
        }
      ]
    },
    {
      "cell_type": "code",
      "metadata": {
        "colab": {
          "base_uri": "https://localhost:8080/"
        },
        "id": "d8-8PEFgVusX",
        "outputId": "401ecb11-12d8-4a7b-b41c-0af18ebf09a8"
      },
      "source": [
        "for Year in df[\"Year\"].unique():\n",
        " print(Year)\n",
        " len(df[df[\"Year\"]==\"Baseball\"])"
      ],
      "execution_count": null,
      "outputs": [
        {
          "output_type": "stream",
          "name": "stdout",
          "text": [
            "1896\n",
            "1900\n",
            "1904\n",
            "1908\n",
            "1912\n",
            "1920\n",
            "1924\n",
            "1928\n",
            "1932\n",
            "1936\n",
            "1948\n",
            "1952\n",
            "1956\n",
            "1960\n",
            "1964\n",
            "1968\n",
            "1972\n",
            "1976\n",
            "1980\n",
            "1984\n",
            "1988\n",
            "1992\n",
            "1996\n",
            "2000\n",
            "2004\n",
            "2008\n",
            "2012\n"
          ]
        }
      ]
    },
    {
      "cell_type": "code",
      "metadata": {
        "colab": {
          "base_uri": "https://localhost:8080/"
        },
        "id": "_Otrw3YTVuv5",
        "outputId": "2ebf39b9-a28b-48b2-fc82-fee17e01c0ce"
      },
      "source": [
        "for Year in df[\"Year\"].unique():\n",
        " print(Year)\n",
        " len(df[df[\"Medal\"]==\"Gold\"])"
      ],
      "execution_count": null,
      "outputs": [
        {
          "output_type": "stream",
          "name": "stdout",
          "text": [
            "1896\n",
            "1900\n",
            "1904\n",
            "1908\n",
            "1912\n",
            "1920\n",
            "1924\n",
            "1928\n",
            "1932\n",
            "1936\n",
            "1948\n",
            "1952\n",
            "1956\n",
            "1960\n",
            "1964\n",
            "1968\n",
            "1972\n",
            "1976\n",
            "1980\n",
            "1984\n",
            "1988\n",
            "1992\n",
            "1996\n",
            "2000\n",
            "2004\n",
            "2008\n",
            "2012\n"
          ]
        }
      ]
    },
    {
      "cell_type": "code",
      "metadata": {
        "colab": {
          "base_uri": "https://localhost:8080/",
          "height": 204
        },
        "id": "2ayzV1Ppbts-",
        "outputId": "b12773c8-bd75-432d-983e-c16d33458211"
      },
      "source": [
        "df.head()"
      ],
      "execution_count": null,
      "outputs": [
        {
          "output_type": "execute_result",
          "data": {
            "text/html": [
              "<div>\n",
              "<style scoped>\n",
              "    .dataframe tbody tr th:only-of-type {\n",
              "        vertical-align: middle;\n",
              "    }\n",
              "\n",
              "    .dataframe tbody tr th {\n",
              "        vertical-align: top;\n",
              "    }\n",
              "\n",
              "    .dataframe thead th {\n",
              "        text-align: right;\n",
              "    }\n",
              "</style>\n",
              "<table border=\"1\" class=\"dataframe\">\n",
              "  <thead>\n",
              "    <tr style=\"text-align: right;\">\n",
              "      <th></th>\n",
              "      <th>Year</th>\n",
              "      <th>City</th>\n",
              "      <th>Sport</th>\n",
              "      <th>Discipline</th>\n",
              "      <th>Athlete</th>\n",
              "      <th>Country</th>\n",
              "      <th>Gender</th>\n",
              "      <th>Event</th>\n",
              "      <th>Medal</th>\n",
              "    </tr>\n",
              "  </thead>\n",
              "  <tbody>\n",
              "    <tr>\n",
              "      <th>0</th>\n",
              "      <td>1896</td>\n",
              "      <td>Athens</td>\n",
              "      <td>Aquatics</td>\n",
              "      <td>Swimming</td>\n",
              "      <td>HAJOS, Alfred</td>\n",
              "      <td>HUN</td>\n",
              "      <td>Men</td>\n",
              "      <td>100M Freestyle</td>\n",
              "      <td>Gold</td>\n",
              "    </tr>\n",
              "    <tr>\n",
              "      <th>1</th>\n",
              "      <td>1896</td>\n",
              "      <td>Athens</td>\n",
              "      <td>Aquatics</td>\n",
              "      <td>Swimming</td>\n",
              "      <td>HERSCHMANN, Otto</td>\n",
              "      <td>AUT</td>\n",
              "      <td>Men</td>\n",
              "      <td>100M Freestyle</td>\n",
              "      <td>Silver</td>\n",
              "    </tr>\n",
              "    <tr>\n",
              "      <th>2</th>\n",
              "      <td>1896</td>\n",
              "      <td>Athens</td>\n",
              "      <td>Aquatics</td>\n",
              "      <td>Swimming</td>\n",
              "      <td>DRIVAS, Dimitrios</td>\n",
              "      <td>GRE</td>\n",
              "      <td>Men</td>\n",
              "      <td>100M Freestyle For Sailors</td>\n",
              "      <td>Bronze</td>\n",
              "    </tr>\n",
              "    <tr>\n",
              "      <th>3</th>\n",
              "      <td>1896</td>\n",
              "      <td>Athens</td>\n",
              "      <td>Aquatics</td>\n",
              "      <td>Swimming</td>\n",
              "      <td>MALOKINIS, Ioannis</td>\n",
              "      <td>GRE</td>\n",
              "      <td>Men</td>\n",
              "      <td>100M Freestyle For Sailors</td>\n",
              "      <td>Gold</td>\n",
              "    </tr>\n",
              "    <tr>\n",
              "      <th>4</th>\n",
              "      <td>1896</td>\n",
              "      <td>Athens</td>\n",
              "      <td>Aquatics</td>\n",
              "      <td>Swimming</td>\n",
              "      <td>CHASAPIS, Spiridon</td>\n",
              "      <td>GRE</td>\n",
              "      <td>Men</td>\n",
              "      <td>100M Freestyle For Sailors</td>\n",
              "      <td>Silver</td>\n",
              "    </tr>\n",
              "  </tbody>\n",
              "</table>\n",
              "</div>"
            ],
            "text/plain": [
              "   Year    City     Sport  ... Gender                       Event   Medal\n",
              "0  1896  Athens  Aquatics  ...    Men              100M Freestyle    Gold\n",
              "1  1896  Athens  Aquatics  ...    Men              100M Freestyle  Silver\n",
              "2  1896  Athens  Aquatics  ...    Men  100M Freestyle For Sailors  Bronze\n",
              "3  1896  Athens  Aquatics  ...    Men  100M Freestyle For Sailors    Gold\n",
              "4  1896  Athens  Aquatics  ...    Men  100M Freestyle For Sailors  Silver\n",
              "\n",
              "[5 rows x 9 columns]"
            ]
          },
          "metadata": {},
          "execution_count": 40
        }
      ]
    },
    {
      "cell_type": "code",
      "metadata": {
        "id": "PtZOuZ1BbtxJ"
      },
      "source": [
        "import matplotlib.pyplot as plt\n"
      ],
      "execution_count": null,
      "outputs": []
    },
    {
      "cell_type": "code",
      "metadata": {
        "colab": {
          "base_uri": "https://localhost:8080/",
          "height": 231
        },
        "id": "0bo85kAbbt0O",
        "outputId": "1dc8dba9-c3ff-4744-f940-62c239cd84fc"
      },
      "source": [
        "data=[]\n",
        "for Year in df[\"Year\"].unique():\n",
        " print(Year)\n",
        " len(df[df[\"Year\"]==\"Country\"])      #can you explain me why i am getting this error\n",
        "\n"
      ],
      "execution_count": 6,
      "outputs": [
        {
          "output_type": "error",
          "ename": "NameError",
          "evalue": "ignored",
          "traceback": [
            "\u001b[0;31m---------------------------------------------------------------------------\u001b[0m",
            "\u001b[0;31mNameError\u001b[0m                                 Traceback (most recent call last)",
            "\u001b[0;32m<ipython-input-6-441a865f8747>\u001b[0m in \u001b[0;36m<module>\u001b[0;34m()\u001b[0m\n\u001b[1;32m      1\u001b[0m \u001b[0mdata\u001b[0m\u001b[0;34m=\u001b[0m\u001b[0;34m[\u001b[0m\u001b[0;34m]\u001b[0m\u001b[0;34m\u001b[0m\u001b[0;34m\u001b[0m\u001b[0m\n\u001b[0;32m----> 2\u001b[0;31m \u001b[0;32mfor\u001b[0m \u001b[0mYear\u001b[0m \u001b[0;32min\u001b[0m \u001b[0mdf\u001b[0m\u001b[0;34m[\u001b[0m\u001b[0;34m\"Year\"\u001b[0m\u001b[0;34m]\u001b[0m\u001b[0;34m.\u001b[0m\u001b[0munique\u001b[0m\u001b[0;34m(\u001b[0m\u001b[0;34m)\u001b[0m\u001b[0;34m:\u001b[0m\u001b[0;34m\u001b[0m\u001b[0;34m\u001b[0m\u001b[0m\n\u001b[0m\u001b[1;32m      3\u001b[0m  \u001b[0mprint\u001b[0m\u001b[0;34m(\u001b[0m\u001b[0mYear\u001b[0m\u001b[0;34m)\u001b[0m\u001b[0;34m\u001b[0m\u001b[0;34m\u001b[0m\u001b[0m\n\u001b[1;32m      4\u001b[0m  \u001b[0mlen\u001b[0m\u001b[0;34m(\u001b[0m\u001b[0mdf\u001b[0m\u001b[0;34m[\u001b[0m\u001b[0mdf\u001b[0m\u001b[0;34m[\u001b[0m\u001b[0;34m\"Year\"\u001b[0m\u001b[0;34m]\u001b[0m\u001b[0;34m==\u001b[0m\u001b[0;34m\"Country\"\u001b[0m\u001b[0;34m]\u001b[0m\u001b[0;34m)\u001b[0m\u001b[0;34m\u001b[0m\u001b[0;34m\u001b[0m\u001b[0m\n\u001b[1;32m      5\u001b[0m \u001b[0;34m\u001b[0m\u001b[0m\n",
            "\u001b[0;31mNameError\u001b[0m: name 'df' is not defined"
          ]
        }
      ]
    },
    {
      "cell_type": "code",
      "metadata": {
        "id": "jvg7-fSWbt4K"
      },
      "source": [
        ""
      ],
      "execution_count": null,
      "outputs": []
    }
  ]
}